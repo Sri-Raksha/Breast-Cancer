{
  "nbformat": 4,
  "nbformat_minor": 0,
  "metadata": {
    "colab": {
      "provenance": [],
      "include_colab_link": true
    },
    "kernelspec": {
      "name": "python3",
      "display_name": "Python 3"
    },
    "language_info": {
      "name": "python"
    }
  },
  "cells": [
    {
      "cell_type": "markdown",
      "metadata": {
        "id": "view-in-github",
        "colab_type": "text"
      },
      "source": [
        "<a href=\"https://colab.research.google.com/github/Sri-Raksha/Breast-Cancer/blob/main/Breast_Cancer.ipynb\" target=\"_parent\"><img src=\"https://colab.research.google.com/assets/colab-badge.svg\" alt=\"Open In Colab\"/></a>"
      ]
    },
    {
      "cell_type": "code",
      "execution_count": 15,
      "metadata": {
        "colab": {
          "base_uri": "https://localhost:8080/"
        },
        "id": "63UNo83W8ZZS",
        "outputId": "36863bd2-5d10-4791-d511-c699ed8f6090"
      },
      "outputs": [
        {
          "output_type": "stream",
          "name": "stdout",
          "text": [
            "Requirement already satisfied: ucimlrepo in /usr/local/lib/python3.10/dist-packages (0.0.3)\n"
          ]
        }
      ],
      "source": [
        "pip install ucimlrepo"
      ]
    },
    {
      "cell_type": "code",
      "source": [
        "from ucimlrepo import fetch_ucirepo\n",
        "\n",
        "# fetch dataset\n",
        "breast_cancer_wisconsin_diagnostic = fetch_ucirepo(id=17)\n",
        "\n",
        "# data (as pandas dataframes)\n",
        "X = breast_cancer_wisconsin_diagnostic.data.features\n",
        "y = breast_cancer_wisconsin_diagnostic.data.targets\n",
        "\n",
        "# metadata\n",
        "print(breast_cancer_wisconsin_diagnostic.metadata)\n",
        "\n",
        "# variable information\n",
        "print(breast_cancer_wisconsin_diagnostic.variables)"
      ],
      "metadata": {
        "colab": {
          "base_uri": "https://localhost:8080/"
        },
        "id": "w3R5BsSC8avG",
        "outputId": "d951a85f-dfbd-4070-ca24-bd15ebaaf5a1"
      },
      "execution_count": 16,
      "outputs": [
        {
          "output_type": "stream",
          "name": "stdout",
          "text": [
            "{'uci_id': 17, 'name': 'Breast Cancer Wisconsin (Diagnostic)', 'repository_url': 'https://archive.ics.uci.edu/dataset/17/breast+cancer+wisconsin+diagnostic', 'data_url': 'https://archive.ics.uci.edu/static/public/17/data.csv', 'abstract': 'Diagnostic Wisconsin Breast Cancer Database.', 'area': 'Health and Medicine', 'tasks': ['Classification'], 'characteristics': ['Multivariate'], 'num_instances': 569, 'num_features': 30, 'feature_types': ['Real'], 'demographics': [], 'target_col': ['Diagnosis'], 'index_col': ['ID'], 'has_missing_values': 'no', 'missing_values_symbol': None, 'year_of_dataset_creation': 1993, 'last_updated': 'Fri Nov 03 2023', 'dataset_doi': '10.24432/C5DW2B', 'creators': ['William Wolberg', 'Olvi Mangasarian', 'Nick Street', 'W. Street'], 'intro_paper': {'title': 'Nuclear feature extraction for breast tumor diagnosis', 'authors': 'W. Street, W. Wolberg, O. Mangasarian', 'published_in': 'Electronic imaging', 'year': 1993, 'url': 'https://www.semanticscholar.org/paper/53f0fbb425bc14468eb3bf96b2e1d41ba8087f36', 'doi': '10.1117/12.148698'}, 'additional_info': {'summary': 'Features are computed from a digitized image of a fine needle aspirate (FNA) of a breast mass.  They describe characteristics of the cell nuclei present in the image. A few of the images can be found at http://www.cs.wisc.edu/~street/images/\\r\\n\\r\\nSeparating plane described above was obtained using Multisurface Method-Tree (MSM-T) [K. P. Bennett, \"Decision Tree Construction Via Linear Programming.\" Proceedings of the 4th Midwest Artificial Intelligence and Cognitive Science Society, pp. 97-101, 1992], a classification method which uses linear programming to construct a decision tree.  Relevant features were selected using an exhaustive search in the space of 1-4 features and 1-3 separating planes.\\r\\n\\r\\nThe actual linear program used to obtain the separating plane in the 3-dimensional space is that described in: [K. P. Bennett and O. L. Mangasarian: \"Robust Linear Programming Discrimination of Two Linearly Inseparable Sets\", Optimization Methods and Software 1, 1992, 23-34].\\r\\n\\r\\nThis database is also available through the UW CS ftp server:\\r\\nftp ftp.cs.wisc.edu\\r\\ncd math-prog/cpo-dataset/machine-learn/WDBC/', 'purpose': None, 'funded_by': None, 'instances_represent': None, 'recommended_data_splits': None, 'sensitive_data': None, 'preprocessing_description': None, 'variable_info': '1) ID number\\r\\n2) Diagnosis (M = malignant, B = benign)\\r\\n3-32)\\r\\n\\r\\nTen real-valued features are computed for each cell nucleus:\\r\\n\\r\\n\\ta) radius (mean of distances from center to points on the perimeter)\\r\\n\\tb) texture (standard deviation of gray-scale values)\\r\\n\\tc) perimeter\\r\\n\\td) area\\r\\n\\te) smoothness (local variation in radius lengths)\\r\\n\\tf) compactness (perimeter^2 / area - 1.0)\\r\\n\\tg) concavity (severity of concave portions of the contour)\\r\\n\\th) concave points (number of concave portions of the contour)\\r\\n\\ti) symmetry \\r\\n\\tj) fractal dimension (\"coastline approximation\" - 1)', 'citation': None}}\n",
            "                  name     role         type demographic description units  \\\n",
            "0                   ID       ID  Categorical        None        None  None   \n",
            "1            Diagnosis   Target  Categorical        None        None  None   \n",
            "2              radius1  Feature   Continuous        None        None  None   \n",
            "3             texture1  Feature   Continuous        None        None  None   \n",
            "4           perimeter1  Feature   Continuous        None        None  None   \n",
            "5                area1  Feature   Continuous        None        None  None   \n",
            "6          smoothness1  Feature   Continuous        None        None  None   \n",
            "7         compactness1  Feature   Continuous        None        None  None   \n",
            "8           concavity1  Feature   Continuous        None        None  None   \n",
            "9      concave_points1  Feature   Continuous        None        None  None   \n",
            "10           symmetry1  Feature   Continuous        None        None  None   \n",
            "11  fractal_dimension1  Feature   Continuous        None        None  None   \n",
            "12             radius2  Feature   Continuous        None        None  None   \n",
            "13            texture2  Feature   Continuous        None        None  None   \n",
            "14          perimeter2  Feature   Continuous        None        None  None   \n",
            "15               area2  Feature   Continuous        None        None  None   \n",
            "16         smoothness2  Feature   Continuous        None        None  None   \n",
            "17        compactness2  Feature   Continuous        None        None  None   \n",
            "18          concavity2  Feature   Continuous        None        None  None   \n",
            "19     concave_points2  Feature   Continuous        None        None  None   \n",
            "20           symmetry2  Feature   Continuous        None        None  None   \n",
            "21  fractal_dimension2  Feature   Continuous        None        None  None   \n",
            "22             radius3  Feature   Continuous        None        None  None   \n",
            "23            texture3  Feature   Continuous        None        None  None   \n",
            "24          perimeter3  Feature   Continuous        None        None  None   \n",
            "25               area3  Feature   Continuous        None        None  None   \n",
            "26         smoothness3  Feature   Continuous        None        None  None   \n",
            "27        compactness3  Feature   Continuous        None        None  None   \n",
            "28          concavity3  Feature   Continuous        None        None  None   \n",
            "29     concave_points3  Feature   Continuous        None        None  None   \n",
            "30           symmetry3  Feature   Continuous        None        None  None   \n",
            "31  fractal_dimension3  Feature   Continuous        None        None  None   \n",
            "\n",
            "   missing_values  \n",
            "0              no  \n",
            "1              no  \n",
            "2              no  \n",
            "3              no  \n",
            "4              no  \n",
            "5              no  \n",
            "6              no  \n",
            "7              no  \n",
            "8              no  \n",
            "9              no  \n",
            "10             no  \n",
            "11             no  \n",
            "12             no  \n",
            "13             no  \n",
            "14             no  \n",
            "15             no  \n",
            "16             no  \n",
            "17             no  \n",
            "18             no  \n",
            "19             no  \n",
            "20             no  \n",
            "21             no  \n",
            "22             no  \n",
            "23             no  \n",
            "24             no  \n",
            "25             no  \n",
            "26             no  \n",
            "27             no  \n",
            "28             no  \n",
            "29             no  \n",
            "30             no  \n",
            "31             no  \n"
          ]
        }
      ]
    },
    {
      "cell_type": "code",
      "source": [
        "import numpy as np\n",
        "import pandas as pd\n",
        "from keras.models import Sequential\n",
        "from keras.layers import Dense"
      ],
      "metadata": {
        "id": "HHlBrs3A8tsu"
      },
      "execution_count": 17,
      "outputs": []
    },
    {
      "cell_type": "code",
      "source": [
        "url = \"https://archive.ics.uci.edu/ml/machine-learning-databases/breast-cancer-wisconsin/wdbc.data\"\n",
        "dataset = pd.read_csv(url, header=None)"
      ],
      "metadata": {
        "id": "tA_CS0tp83mt"
      },
      "execution_count": 18,
      "outputs": []
    },
    {
      "cell_type": "code",
      "source": [
        "dataset.columns = ['ID', 'Diagnosis', 'Mean Radius', 'Mean Texture', 'Mean Perimeter', 'Mean Area', 'Mean Smoothness', 'Mean Compactness', 'Mean Concavity', 'Mean Concave Points', 'Mean Symmetry', 'Mean Fractal Dimension', 'SE Radius', 'SE Texture', 'SE Perimeter', 'SE Area', 'SE Smoothness', 'SE Compactness', 'SE Concavity', 'SE Concave Points', 'SE Symmetry', 'SE Fractal Dimension', 'Worst Radius', 'Worst Texture', 'Worst Perimeter', 'Worst Area', 'Worst Smoothness', 'Worst Compactness', 'Worst Concavity', 'Worst Concave Points', 'Worst Symmetry', 'Worst Fractal Dimension']"
      ],
      "metadata": {
        "id": "o-oUJAHy89Xj"
      },
      "execution_count": 19,
      "outputs": []
    },
    {
      "cell_type": "code",
      "source": [
        "dataset['Diagnosis'] = dataset['Diagnosis'].map({'M': 1, 'B': 0})"
      ],
      "metadata": {
        "id": "mokBWJ9n9RIE"
      },
      "execution_count": 20,
      "outputs": []
    },
    {
      "cell_type": "code",
      "source": [
        "X = dataset.iloc[:, 2:].values\n",
        "y = dataset.iloc[:, 1].values"
      ],
      "metadata": {
        "id": "Dok1TyHu8_AM"
      },
      "execution_count": 21,
      "outputs": []
    },
    {
      "cell_type": "code",
      "source": [
        "from sklearn.model_selection import train_test_split\n",
        "X_train, X_test, y_train, y_test = train_test_split(X, y, test_size=0.2, random_state=0)"
      ],
      "metadata": {
        "id": "M2sehVn29Zsv"
      },
      "execution_count": 22,
      "outputs": []
    },
    {
      "cell_type": "code",
      "source": [
        "print(\"X_train shape:\", X_train.shape)\n",
        "print(\"X_test shape:\", X_test.shape)\n",
        "print(\"y_train shape:\", y_train.shape)\n",
        "print(\"y_test shape:\", y_test.shape)"
      ],
      "metadata": {
        "colab": {
          "base_uri": "https://localhost:8080/"
        },
        "id": "xhpcuAdXAj5-",
        "outputId": "74e1e40f-0b92-49c8-e9c2-135a6810892f"
      },
      "execution_count": 23,
      "outputs": [
        {
          "output_type": "stream",
          "name": "stdout",
          "text": [
            "X_train shape: (455, 30)\n",
            "X_test shape: (114, 30)\n",
            "y_train shape: (455,)\n",
            "y_test shape: (114,)\n"
          ]
        }
      ]
    },
    {
      "cell_type": "code",
      "source": [
        "model = Sequential()\n",
        "model.add(Dense(16, input_dim=30, activation='relu'))\n",
        "model.add(Dense(8, activation='relu'))\n",
        "model.add(Dense(1, activation='sigmoid'))"
      ],
      "metadata": {
        "id": "L9WyOpgj9eKM"
      },
      "execution_count": 24,
      "outputs": []
    },
    {
      "cell_type": "code",
      "source": [
        "# Make predictions on the test data\n",
        "y_pred = model.predict(X_test)\n",
        "\n",
        "# Convert the probabilities to binary predictions\n",
        "y_pred_binary = (y_pred > 0.5).astype(int)\n",
        "\n",
        "# Print the binary predictions\n",
        "print(y_pred_binary)"
      ],
      "metadata": {
        "colab": {
          "base_uri": "https://localhost:8080/"
        },
        "id": "d1hOvDduH1B-",
        "outputId": "2930064b-8bde-4c07-c895-2bccc182b9cf"
      },
      "execution_count": 25,
      "outputs": [
        {
          "output_type": "stream",
          "name": "stdout",
          "text": [
            "4/4 [==============================] - 0s 7ms/step\n",
            "[[0]\n",
            " [0]\n",
            " [0]\n",
            " [0]\n",
            " [0]\n",
            " [0]\n",
            " [0]\n",
            " [0]\n",
            " [0]\n",
            " [0]\n",
            " [0]\n",
            " [0]\n",
            " [0]\n",
            " [0]\n",
            " [0]\n",
            " [0]\n",
            " [0]\n",
            " [0]\n",
            " [0]\n",
            " [0]\n",
            " [0]\n",
            " [0]\n",
            " [0]\n",
            " [0]\n",
            " [0]\n",
            " [0]\n",
            " [0]\n",
            " [0]\n",
            " [0]\n",
            " [0]\n",
            " [0]\n",
            " [0]\n",
            " [0]\n",
            " [0]\n",
            " [0]\n",
            " [0]\n",
            " [0]\n",
            " [0]\n",
            " [0]\n",
            " [0]\n",
            " [0]\n",
            " [0]\n",
            " [0]\n",
            " [0]\n",
            " [0]\n",
            " [0]\n",
            " [0]\n",
            " [0]\n",
            " [0]\n",
            " [0]\n",
            " [0]\n",
            " [0]\n",
            " [0]\n",
            " [0]\n",
            " [0]\n",
            " [0]\n",
            " [0]\n",
            " [0]\n",
            " [0]\n",
            " [0]\n",
            " [0]\n",
            " [0]\n",
            " [0]\n",
            " [0]\n",
            " [0]\n",
            " [0]\n",
            " [0]\n",
            " [0]\n",
            " [0]\n",
            " [0]\n",
            " [0]\n",
            " [0]\n",
            " [0]\n",
            " [0]\n",
            " [0]\n",
            " [0]\n",
            " [0]\n",
            " [0]\n",
            " [0]\n",
            " [0]\n",
            " [0]\n",
            " [0]\n",
            " [0]\n",
            " [0]\n",
            " [0]\n",
            " [0]\n",
            " [0]\n",
            " [0]\n",
            " [0]\n",
            " [0]\n",
            " [0]\n",
            " [0]\n",
            " [0]\n",
            " [0]\n",
            " [0]\n",
            " [0]\n",
            " [1]\n",
            " [0]\n",
            " [0]\n",
            " [0]\n",
            " [0]\n",
            " [0]\n",
            " [0]\n",
            " [0]\n",
            " [0]\n",
            " [0]\n",
            " [0]\n",
            " [0]\n",
            " [0]\n",
            " [0]\n",
            " [0]\n",
            " [0]\n",
            " [0]\n",
            " [0]]\n"
          ]
        }
      ]
    },
    {
      "cell_type": "code",
      "source": [],
      "metadata": {
        "id": "Nzne2j-gLoSf"
      },
      "execution_count": 25,
      "outputs": []
    },
    {
      "cell_type": "code",
      "source": [
        "model.compile(loss='binary_crossentropy', optimizer='adam', metrics=['accuracy'])"
      ],
      "metadata": {
        "id": "CyAwhFaW9hG1"
      },
      "execution_count": 26,
      "outputs": []
    },
    {
      "cell_type": "code",
      "source": [
        "model.fit(X_train, y_train, epochs=100, batch_size=10)"
      ],
      "metadata": {
        "colab": {
          "base_uri": "https://localhost:8080/"
        },
        "id": "KowEDrAJ9iic",
        "outputId": "b8c6147b-9e67-42aa-9116-dc8b87c0766a"
      },
      "execution_count": 27,
      "outputs": [
        {
          "output_type": "stream",
          "name": "stdout",
          "text": [
            "Epoch 1/100\n",
            "46/46 [==============================] - 2s 3ms/step - loss: 2.8297 - accuracy: 0.7033\n",
            "Epoch 2/100\n",
            "46/46 [==============================] - 0s 2ms/step - loss: 0.9476 - accuracy: 0.8198\n",
            "Epoch 3/100\n",
            "46/46 [==============================] - 0s 3ms/step - loss: 0.6096 - accuracy: 0.8857\n",
            "Epoch 4/100\n",
            "46/46 [==============================] - 0s 2ms/step - loss: 0.6716 - accuracy: 0.8945\n",
            "Epoch 5/100\n",
            "46/46 [==============================] - 0s 3ms/step - loss: 0.5408 - accuracy: 0.8967\n",
            "Epoch 6/100\n",
            "46/46 [==============================] - 0s 2ms/step - loss: 0.4480 - accuracy: 0.9055\n",
            "Epoch 7/100\n",
            "46/46 [==============================] - 0s 3ms/step - loss: 0.4525 - accuracy: 0.8945\n",
            "Epoch 8/100\n",
            "46/46 [==============================] - 0s 3ms/step - loss: 0.4305 - accuracy: 0.9011\n",
            "Epoch 9/100\n",
            "46/46 [==============================] - 0s 2ms/step - loss: 0.4569 - accuracy: 0.8989\n",
            "Epoch 10/100\n",
            "46/46 [==============================] - 0s 3ms/step - loss: 0.4765 - accuracy: 0.9033\n",
            "Epoch 11/100\n",
            "46/46 [==============================] - 0s 4ms/step - loss: 0.4056 - accuracy: 0.9011\n",
            "Epoch 12/100\n",
            "46/46 [==============================] - 0s 5ms/step - loss: 0.3241 - accuracy: 0.9231\n",
            "Epoch 13/100\n",
            "46/46 [==============================] - 0s 9ms/step - loss: 0.3479 - accuracy: 0.9077\n",
            "Epoch 14/100\n",
            "46/46 [==============================] - 0s 10ms/step - loss: 0.2701 - accuracy: 0.9253\n",
            "Epoch 15/100\n",
            "46/46 [==============================] - 0s 6ms/step - loss: 0.3056 - accuracy: 0.9077\n",
            "Epoch 16/100\n",
            "46/46 [==============================] - 0s 6ms/step - loss: 0.3210 - accuracy: 0.9187\n",
            "Epoch 17/100\n",
            "46/46 [==============================] - 0s 6ms/step - loss: 0.3545 - accuracy: 0.9077\n",
            "Epoch 18/100\n",
            "46/46 [==============================] - 0s 7ms/step - loss: 0.3934 - accuracy: 0.9055\n",
            "Epoch 19/100\n",
            "46/46 [==============================] - 0s 5ms/step - loss: 0.2802 - accuracy: 0.9165\n",
            "Epoch 20/100\n",
            "46/46 [==============================] - 0s 4ms/step - loss: 0.2267 - accuracy: 0.9121\n",
            "Epoch 21/100\n",
            "46/46 [==============================] - 0s 4ms/step - loss: 0.7508 - accuracy: 0.8484\n",
            "Epoch 22/100\n",
            "46/46 [==============================] - 0s 4ms/step - loss: 0.2977 - accuracy: 0.9165\n",
            "Epoch 23/100\n",
            "46/46 [==============================] - 0s 4ms/step - loss: 0.3108 - accuracy: 0.9231\n",
            "Epoch 24/100\n",
            "46/46 [==============================] - 0s 4ms/step - loss: 0.2387 - accuracy: 0.9253\n",
            "Epoch 25/100\n",
            "46/46 [==============================] - 0s 6ms/step - loss: 0.2972 - accuracy: 0.9033\n",
            "Epoch 26/100\n",
            "46/46 [==============================] - 0s 5ms/step - loss: 0.2521 - accuracy: 0.9253\n",
            "Epoch 27/100\n",
            "46/46 [==============================] - 0s 5ms/step - loss: 0.2280 - accuracy: 0.9253\n",
            "Epoch 28/100\n",
            "46/46 [==============================] - 0s 4ms/step - loss: 0.2221 - accuracy: 0.9187\n",
            "Epoch 29/100\n",
            "46/46 [==============================] - 0s 5ms/step - loss: 0.2718 - accuracy: 0.9099\n",
            "Epoch 30/100\n",
            "46/46 [==============================] - 0s 8ms/step - loss: 0.3451 - accuracy: 0.9077\n",
            "Epoch 31/100\n",
            "46/46 [==============================] - 1s 12ms/step - loss: 0.3352 - accuracy: 0.9055\n",
            "Epoch 32/100\n",
            "46/46 [==============================] - 0s 11ms/step - loss: 0.2331 - accuracy: 0.9143\n",
            "Epoch 33/100\n",
            "46/46 [==============================] - 1s 12ms/step - loss: 0.3319 - accuracy: 0.9011\n",
            "Epoch 34/100\n",
            "46/46 [==============================] - 1s 18ms/step - loss: 0.2325 - accuracy: 0.9165\n",
            "Epoch 35/100\n",
            "46/46 [==============================] - 1s 16ms/step - loss: 0.2108 - accuracy: 0.9165\n",
            "Epoch 36/100\n",
            "46/46 [==============================] - 1s 15ms/step - loss: 0.4325 - accuracy: 0.8747\n",
            "Epoch 37/100\n",
            "46/46 [==============================] - 1s 16ms/step - loss: 0.2565 - accuracy: 0.9165\n",
            "Epoch 38/100\n",
            "46/46 [==============================] - 0s 10ms/step - loss: 0.2093 - accuracy: 0.9231\n",
            "Epoch 39/100\n",
            "46/46 [==============================] - 0s 8ms/step - loss: 0.2345 - accuracy: 0.9121\n",
            "Epoch 40/100\n",
            "46/46 [==============================] - 0s 10ms/step - loss: 0.2602 - accuracy: 0.9187\n",
            "Epoch 41/100\n",
            "46/46 [==============================] - 1s 12ms/step - loss: 0.2012 - accuracy: 0.9187\n",
            "Epoch 42/100\n",
            "46/46 [==============================] - 0s 9ms/step - loss: 0.1838 - accuracy: 0.9363\n",
            "Epoch 43/100\n",
            "46/46 [==============================] - 0s 10ms/step - loss: 0.1948 - accuracy: 0.9231\n",
            "Epoch 44/100\n",
            "46/46 [==============================] - 0s 8ms/step - loss: 0.2069 - accuracy: 0.9165\n",
            "Epoch 45/100\n",
            "46/46 [==============================] - 0s 6ms/step - loss: 0.3318 - accuracy: 0.8989\n",
            "Epoch 46/100\n",
            "46/46 [==============================] - 1s 18ms/step - loss: 0.2973 - accuracy: 0.9033\n",
            "Epoch 47/100\n",
            "46/46 [==============================] - 1s 18ms/step - loss: 0.2615 - accuracy: 0.9165\n",
            "Epoch 48/100\n",
            "46/46 [==============================] - 1s 19ms/step - loss: 0.2596 - accuracy: 0.9099\n",
            "Epoch 49/100\n",
            "46/46 [==============================] - 1s 16ms/step - loss: 0.2345 - accuracy: 0.9187\n",
            "Epoch 50/100\n",
            "46/46 [==============================] - 1s 16ms/step - loss: 0.2068 - accuracy: 0.9275\n",
            "Epoch 51/100\n",
            "46/46 [==============================] - 1s 13ms/step - loss: 0.1928 - accuracy: 0.9209\n",
            "Epoch 52/100\n",
            "46/46 [==============================] - 1s 13ms/step - loss: 0.2574 - accuracy: 0.9055\n",
            "Epoch 53/100\n",
            "46/46 [==============================] - 0s 10ms/step - loss: 0.2111 - accuracy: 0.9253\n",
            "Epoch 54/100\n",
            "46/46 [==============================] - 0s 8ms/step - loss: 0.2670 - accuracy: 0.9187\n",
            "Epoch 55/100\n",
            "46/46 [==============================] - 0s 8ms/step - loss: 0.1594 - accuracy: 0.9516\n",
            "Epoch 56/100\n",
            "46/46 [==============================] - 1s 11ms/step - loss: 0.1898 - accuracy: 0.9341\n",
            "Epoch 57/100\n",
            "46/46 [==============================] - 0s 9ms/step - loss: 0.2249 - accuracy: 0.9253\n",
            "Epoch 58/100\n",
            "46/46 [==============================] - 0s 10ms/step - loss: 0.1716 - accuracy: 0.9407\n",
            "Epoch 59/100\n",
            "46/46 [==============================] - 1s 13ms/step - loss: 0.2601 - accuracy: 0.9165\n",
            "Epoch 60/100\n",
            "46/46 [==============================] - 1s 12ms/step - loss: 0.1783 - accuracy: 0.9319\n",
            "Epoch 61/100\n",
            "46/46 [==============================] - 0s 10ms/step - loss: 0.1790 - accuracy: 0.9341\n",
            "Epoch 62/100\n",
            "46/46 [==============================] - 1s 11ms/step - loss: 0.1485 - accuracy: 0.9473\n",
            "Epoch 63/100\n",
            "46/46 [==============================] - 1s 13ms/step - loss: 0.2393 - accuracy: 0.9209\n",
            "Epoch 64/100\n",
            "46/46 [==============================] - 1s 11ms/step - loss: 0.2421 - accuracy: 0.9165\n",
            "Epoch 65/100\n",
            "46/46 [==============================] - 1s 14ms/step - loss: 0.1780 - accuracy: 0.9319\n",
            "Epoch 66/100\n",
            "46/46 [==============================] - 1s 18ms/step - loss: 0.1686 - accuracy: 0.9253\n",
            "Epoch 67/100\n",
            "46/46 [==============================] - 1s 15ms/step - loss: 0.1791 - accuracy: 0.9275\n",
            "Epoch 68/100\n",
            "46/46 [==============================] - 1s 11ms/step - loss: 0.1660 - accuracy: 0.9407\n",
            "Epoch 69/100\n",
            "46/46 [==============================] - 1s 15ms/step - loss: 0.1589 - accuracy: 0.9341\n",
            "Epoch 70/100\n",
            "46/46 [==============================] - 1s 17ms/step - loss: 0.1602 - accuracy: 0.9341\n",
            "Epoch 71/100\n",
            "46/46 [==============================] - 1s 20ms/step - loss: 0.2903 - accuracy: 0.9121\n",
            "Epoch 72/100\n",
            "46/46 [==============================] - 1s 19ms/step - loss: 0.1830 - accuracy: 0.9429\n",
            "Epoch 73/100\n",
            "46/46 [==============================] - 1s 19ms/step - loss: 0.1471 - accuracy: 0.9451\n",
            "Epoch 74/100\n",
            "46/46 [==============================] - 1s 13ms/step - loss: 0.1813 - accuracy: 0.9407\n",
            "Epoch 75/100\n",
            "46/46 [==============================] - 1s 13ms/step - loss: 0.1789 - accuracy: 0.9341\n",
            "Epoch 76/100\n",
            "46/46 [==============================] - 1s 12ms/step - loss: 0.2734 - accuracy: 0.9055\n",
            "Epoch 77/100\n",
            "46/46 [==============================] - 1s 15ms/step - loss: 0.1856 - accuracy: 0.9231\n",
            "Epoch 78/100\n",
            "46/46 [==============================] - 1s 12ms/step - loss: 0.1898 - accuracy: 0.9319\n",
            "Epoch 79/100\n",
            "46/46 [==============================] - 1s 13ms/step - loss: 0.2152 - accuracy: 0.9385\n",
            "Epoch 80/100\n",
            "46/46 [==============================] - 1s 14ms/step - loss: 0.2392 - accuracy: 0.9165\n",
            "Epoch 81/100\n",
            "46/46 [==============================] - 1s 14ms/step - loss: 0.1961 - accuracy: 0.9253\n",
            "Epoch 82/100\n",
            "46/46 [==============================] - 1s 13ms/step - loss: 0.1861 - accuracy: 0.9363\n",
            "Epoch 83/100\n",
            "46/46 [==============================] - 1s 16ms/step - loss: 0.2512 - accuracy: 0.9187\n",
            "Epoch 84/100\n",
            "46/46 [==============================] - 1s 14ms/step - loss: 0.2803 - accuracy: 0.9231\n",
            "Epoch 85/100\n",
            "46/46 [==============================] - 1s 14ms/step - loss: 0.1686 - accuracy: 0.9451\n",
            "Epoch 86/100\n",
            "46/46 [==============================] - 1s 15ms/step - loss: 0.1572 - accuracy: 0.9473\n",
            "Epoch 87/100\n",
            "46/46 [==============================] - 1s 14ms/step - loss: 0.2202 - accuracy: 0.9275\n",
            "Epoch 88/100\n",
            "46/46 [==============================] - 1s 11ms/step - loss: 0.1622 - accuracy: 0.9407\n",
            "Epoch 89/100\n",
            "46/46 [==============================] - 1s 26ms/step - loss: 0.1658 - accuracy: 0.9385\n",
            "Epoch 90/100\n",
            "46/46 [==============================] - 1s 18ms/step - loss: 0.1718 - accuracy: 0.9341\n",
            "Epoch 91/100\n",
            "46/46 [==============================] - 1s 18ms/step - loss: 0.1267 - accuracy: 0.9516\n",
            "Epoch 92/100\n",
            "46/46 [==============================] - 1s 21ms/step - loss: 0.1408 - accuracy: 0.9429\n",
            "Epoch 93/100\n",
            "46/46 [==============================] - 1s 15ms/step - loss: 0.1712 - accuracy: 0.9363\n",
            "Epoch 94/100\n",
            "46/46 [==============================] - 1s 17ms/step - loss: 0.1798 - accuracy: 0.9538\n",
            "Epoch 95/100\n",
            "46/46 [==============================] - 1s 14ms/step - loss: 0.1396 - accuracy: 0.9473\n",
            "Epoch 96/100\n",
            "46/46 [==============================] - 1s 11ms/step - loss: 0.3683 - accuracy: 0.8879\n",
            "Epoch 97/100\n",
            "46/46 [==============================] - 1s 13ms/step - loss: 0.1447 - accuracy: 0.9516\n",
            "Epoch 98/100\n",
            "46/46 [==============================] - 0s 9ms/step - loss: 0.1614 - accuracy: 0.9363\n",
            "Epoch 99/100\n",
            "46/46 [==============================] - 1s 14ms/step - loss: 0.1426 - accuracy: 0.9538\n",
            "Epoch 100/100\n",
            "46/46 [==============================] - 1s 12ms/step - loss: 0.1820 - accuracy: 0.9407\n"
          ]
        },
        {
          "output_type": "execute_result",
          "data": {
            "text/plain": [
              "<keras.src.callbacks.History at 0x7e127571a8c0>"
            ]
          },
          "metadata": {},
          "execution_count": 27
        }
      ]
    },
    {
      "cell_type": "code",
      "source": [
        "_, accuracy = model.evaluate(X_test, y_test)\n",
        "print('Accuracy: %.2f' % (accuracy*100))"
      ],
      "metadata": {
        "colab": {
          "base_uri": "https://localhost:8080/"
        },
        "id": "kOEhoBcp94gm",
        "outputId": "c35e132a-61e2-41bc-c690-759440ce952a"
      },
      "execution_count": 28,
      "outputs": [
        {
          "output_type": "stream",
          "name": "stdout",
          "text": [
            "4/4 [==============================] - 0s 4ms/step - loss: 0.2239 - accuracy: 0.9211\n",
            "Accuracy: 92.11\n"
          ]
        }
      ]
    },
    {
      "cell_type": "code",
      "source": [
        "model.summary()"
      ],
      "metadata": {
        "colab": {
          "base_uri": "https://localhost:8080/"
        },
        "id": "V0nnPr5MBP-G",
        "outputId": "69a6776b-90ff-45bd-dec8-6601cedbcee8"
      },
      "execution_count": 29,
      "outputs": [
        {
          "output_type": "stream",
          "name": "stdout",
          "text": [
            "Model: \"sequential_1\"\n",
            "_________________________________________________________________\n",
            " Layer (type)                Output Shape              Param #   \n",
            "=================================================================\n",
            " dense_3 (Dense)             (None, 16)                496       \n",
            "                                                                 \n",
            " dense_4 (Dense)             (None, 8)                 136       \n",
            "                                                                 \n",
            " dense_5 (Dense)             (None, 1)                 9         \n",
            "                                                                 \n",
            "=================================================================\n",
            "Total params: 641 (2.50 KB)\n",
            "Trainable params: 641 (2.50 KB)\n",
            "Non-trainable params: 0 (0.00 Byte)\n",
            "_________________________________________________________________\n"
          ]
        }
      ]
    },
    {
      "cell_type": "code",
      "source": [
        "import matplotlib.pyplot as plt\n",
        "\n",
        "# Assuming you have already loaded and preprocessed the dataset\n",
        "class_distribution = dataset['Diagnosis'].value_counts()\n",
        "plt.bar(class_distribution.index, class_distribution.values)\n",
        "plt.xlabel('Diagnosis')\n",
        "plt.ylabel('Count')\n",
        "plt.title('Class Distribution')\n",
        "plt.show()"
      ],
      "metadata": {
        "colab": {
          "base_uri": "https://localhost:8080/",
          "height": 472
        },
        "id": "5q1DIsrS_kjO",
        "outputId": "9df281a5-6d2d-4e9d-e2e6-3ad1a45304ee"
      },
      "execution_count": 30,
      "outputs": [
        {
          "output_type": "display_data",
          "data": {
            "text/plain": [
              "<Figure size 640x480 with 1 Axes>"
            ],
            "image/png": "[encoded data removed]"
          },
          "metadata": {}
        }
      ]
    },
    {
      "cell_type": "code",
      "source": [
        "plt.hist(dataset['Mean Radius'], bins=20, color='skyblue', edgecolor='black')\n",
        "plt.xlabel('Mean Radius')\n",
        "plt.ylabel('Frequency')\n",
        "plt.title('Distribution of Mean Radius')\n",
        "plt.show()"
      ],
      "metadata": {
        "id": "hTSfMOFe_7QX",
        "colab": {
          "base_uri": "https://localhost:8080/",
          "height": 472
        },
        "outputId": "6fec7657-4071-40ae-9351-8ac892877b5e"
      },
      "execution_count": 33,
      "outputs": [
        {
          "output_type": "display_data",
          "data": {
            "text/plain": [
              "<Figure size 640x480 with 1 Axes>"
            ],
            "image/png": "[encoded data removed]"
          },
          "metadata": {}
        }
      ]
    },
    {
      "cell_type": "code",
      "source": [
        "plt.scatter(dataset['Mean Radius'], dataset['Mean Texture'], color='green')\n",
        "plt.xlabel('Mean Radius')\n",
        "plt.ylabel('Mean Texture')\n",
        "plt.title('Mean Radius vs Mean Texture')\n",
        "plt.show()"
      ],
      "metadata": {
        "id": "eF37gvEG_9Jf",
        "colab": {
          "base_uri": "https://localhost:8080/",
          "height": 472
        },
        "outputId": "879405d0-c8a1-4193-fa44-4a515c829119"
      },
      "execution_count": 34,
      "outputs": [
        {
          "output_type": "display_data",
          "data": {
            "text/plain": [
              "<Figure size 640x480 with 1 Axes>"
            ],
            "image/png": "[encoded data removed]"
          },
          "metadata": {}
        }
      ]
    }
  ]
}